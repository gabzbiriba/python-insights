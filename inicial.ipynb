version https://git-lfs.github.com/spec/v1
oid sha256:31d2f864958fbb59323e3ac10a2069eedb310bd8776f1da42817141e2fa77514
size 8858254
